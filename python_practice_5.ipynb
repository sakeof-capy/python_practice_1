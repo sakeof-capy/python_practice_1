{
  "nbformat": 4,
  "nbformat_minor": 0,
  "metadata": {
    "colab": {
      "provenance": []
    },
    "kernelspec": {
      "name": "python3",
      "display_name": "Python 3"
    },
    "language_info": {
      "name": "python"
    }
  },
  "cells": [
    {
      "cell_type": "markdown",
      "source": [
        "# I. OOP"
      ],
      "metadata": {
        "id": "5qV_sehzFCTp"
      }
    },
    {
      "cell_type": "markdown",
      "source": [
        "1. (6б). Створіть клас Animal, додайте три атрибути, один з яких має значення за замовчуванням та два методи на свій розсуд."
      ],
      "metadata": {
        "id": "tx_U_hOALyfg"
      }
    },
    {
      "cell_type": "code",
      "source": [
        "class Animal:\n",
        "    def __init__(self, name, species, sound=None):\n",
        "        self.name = name\n",
        "        self.species = species\n",
        "        self.sound = sound\n",
        "\n",
        "    def introduce(self):\n",
        "        print(f\"I am a {self.species} named {self.name}\")\n",
        "\n",
        "    def make_sound(self):\n",
        "        if self.sound:\n",
        "            print(f\"{self.name} says {self.sound}\")\n",
        "        else:\n",
        "            print(f\"{self.name} makes a generic animal sound\")"
      ],
      "metadata": {
        "id": "-Vf895KaL88N",
        "colab": {
          "base_uri": "https://localhost:8080/"
        },
        "outputId": "9c7faaf5-43ce-4808-85ed-9329e58474db"
      },
      "execution_count": 2,
      "outputs": [
        {
          "output_type": "stream",
          "name": "stdout",
          "text": [
            "Default makes a generic animal sound\n",
            "I am a Unknown named Default\n",
            "Whiskers says Meow\n",
            "I am a Cat named Whiskers\n"
          ]
        }
      ]
    },
    {
      "cell_type": "markdown",
      "source": [
        "2. (2б). Створіть два обʼєкти цього класу, де один з обʼєктів створюється із дефолтним значенням атрибуту. На одному обʼєкті отримайте значення його атрибуту, а на іншому викличте один з його методів."
      ],
      "metadata": {
        "id": "X_UlOMB0L93w"
      }
    },
    {
      "cell_type": "code",
      "source": [
        "animal1 = Animal(\"Buddy\", \"Dog\")\n",
        "animal2 = Animal(\"Whiskers\", \"Cat\", \"Meow\")\n",
        "\n",
        "print(f\"{animal1.name}'s species: {animal1.species}\")\n",
        "animal2.make_sound()"
      ],
      "metadata": {
        "id": "7gBu0ESOMCpG",
        "colab": {
          "base_uri": "https://localhost:8080/"
        },
        "outputId": "4d001873-cd13-4c58-983f-894622e97d5e"
      },
      "execution_count": 6,
      "outputs": [
        {
          "output_type": "stream",
          "name": "stdout",
          "text": [
            "Buddy's species: Dog\n",
            "Whiskers says Meow\n"
          ]
        }
      ]
    },
    {
      "cell_type": "markdown",
      "source": [
        "3. (5б). Створіть клас, де атрибути мають різні рівні доступу. Спробуйте отримати їхні значення та опишіть результати."
      ],
      "metadata": {
        "id": "HoqSCZt1MHn5"
      }
    },
    {
      "cell_type": "code",
      "source": [
        "class SomeClass:\n",
        "  def __init__(self):\n",
        "    self.attr0 = 0\n",
        "    self._attr1 = 1\n",
        "    self.__attr2 = 2\n",
        "\n",
        "  def get_attr2(self):\n",
        "    return self.__attr2\n",
        "\n",
        "\n",
        "instance = SomeClass()\n",
        "attr0 = instance.attr0\n",
        "attr1 = instance._attr1\n",
        "# attr2 = instance.__attr2\n",
        "attr2 = instance.get_attr2()\n",
        "\n",
        "print(f\"attr0 = {attr0}\")\n",
        "print(f\"_attr1 = {attr1}\")\n",
        "print(f\"__attr2 = {attr2}\")\n",
        "\n",
        "# Explanation:\n",
        "# public and protected attributes can be freely accessed outside the class\n",
        "# protected allows this because Python does not realize it completely\n",
        "# (it's only a convention to name protected attribs with underscore). However it should not be done!\n",
        "# private attributes are not accessible outside the class. They are named with two underscore"
      ],
      "metadata": {
        "id": "r9b3vJxBMSPV",
        "colab": {
          "base_uri": "https://localhost:8080/"
        },
        "outputId": "280c172d-8a01-4ae4-af3d-b6a2bb2fe9f3"
      },
      "execution_count": 11,
      "outputs": [
        {
          "output_type": "stream",
          "name": "stdout",
          "text": [
            "attr0 = 0\n",
            "_attr1 = 1\n",
            "__attr2 = 2\n"
          ]
        }
      ]
    },
    {
      "cell_type": "markdown",
      "source": [
        "4. (7б). Як ви розумієте термін self? Для чого використовується метод __init __?"
      ],
      "metadata": {
        "id": "5op2m2vgMSkZ"
      }
    },
    {
      "cell_type": "markdown",
      "source": [
        "`self` -- це параметр функції, який вирізняє цю функцію як метод серед інших функцій. Загалом, `self` -- це аналог указника `this` з мов таких як C++, Java, C#... `self` містить в собі стале посилання на об'єкт, якому належить цей метод.\n",
        "\n",
        "`__init__` -- метод, який є конструктором класу, якому він належить. Головне застосування -- ініціалізація виділеної під об'єкт пам'яті. Іншими словами, він просто \"створює\" об'єкт."
      ],
      "metadata": {
        "id": "DyiPqNRvMasx"
      }
    },
    {
      "cell_type": "markdown",
      "source": [
        "5. (9б). Створіть клас Фігура без атрибутів, з методом get_area для отримання площі фігури, що повертає 0 та __add __, який приймає self та other в якості аргументів, а повертає суму площин фігур self та other."
      ],
      "metadata": {
        "id": "-6X8EGfjMd2y"
      }
    },
    {
      "cell_type": "code",
      "source": [
        "class Shape:\n",
        "    def get_area(self):\n",
        "        return 0\n",
        "\n",
        "    def __add__(self, other):\n",
        "        if isinstance(other, Shape):\n",
        "            return self.get_area() + other.get_area()\n",
        "        else:\n",
        "            raise TypeError(\"Unsupported operand type. 'Figure' expected.\")"
      ],
      "metadata": {
        "id": "4rvO_wYUMaEr"
      },
      "execution_count": 4,
      "outputs": []
    },
    {
      "cell_type": "markdown",
      "source": [
        "6. (11б). Створіть 2 дочірніх класи від Фігури: Трикутник та Коло, які мають атрибути, необхідні для розрахунку площин. Визначте метод get_area в кожному з них так, щоби вони розраховували площу в залежності від формули для кожного типу фігури. Створіть обʼєкт класу Трикутник та обʼєкт класу Коло. Виконайте операцію суми за допомогою оператора + між ними."
      ],
      "metadata": {
        "id": "SFcKnnv5Mo_z"
      }
    },
    {
      "cell_type": "code",
      "source": [
        "import math\n",
        "\n",
        "class Triangle(Shape):\n",
        "    def __init__(self, base, height):\n",
        "        self.base = base\n",
        "        self.height = height\n",
        "\n",
        "    def get_area(self):\n",
        "        return 0.5 * self.base * self.height\n",
        "\n",
        "class Circle(Shape):\n",
        "    def __init__(self, radius):\n",
        "        self.radius = radius\n",
        "\n",
        "    def get_area(self):\n",
        "        return math.pi * self.radius * self.radius\n",
        "\n",
        "\n",
        "triangle = Triangle(base=7, height=8)\n",
        "circle = Circle(radius=4)\n",
        "\n",
        "print(f\"Area of triangle: {triangle.get_area()}\")\n",
        "print(f\"Area of circle: {circle.get_area()}\")\n",
        "\n",
        "total_area = triangle + circle\n",
        "\n",
        "print(f\"Total area: {total_area}\")"
      ],
      "metadata": {
        "id": "H3GVNr69Muf3",
        "colab": {
          "base_uri": "https://localhost:8080/"
        },
        "outputId": "0c3459cf-1782-4447-f0b9-24aa0db42146"
      },
      "execution_count": 7,
      "outputs": [
        {
          "output_type": "stream",
          "name": "stdout",
          "text": [
            "Area of triangle: 28.0\n",
            "Area of circle: 50.26548245743669\n",
            "Total area: 78.26548245743669\n"
          ]
        }
      ]
    },
    {
      "cell_type": "markdown",
      "source": [
        "7. (3б). Продемонструйте різницю між isinstance та issubclass."
      ],
      "metadata": {
        "id": "HCvR206YMvLK"
      }
    },
    {
      "cell_type": "code",
      "source": [
        "class Base:\n",
        "  pass\n",
        "\n",
        "class Derived(Base):\n",
        "  pass\n",
        "\n",
        "class DerivedDerived(Derived):\n",
        "  pass\n",
        "\n",
        "class SomeUnrelatedClass:\n",
        "  pass\n",
        "\n",
        "derived_derived_instance = DerivedDerived()\n",
        "\n",
        "print(\"DerivedDerived instance isinstance of:\")\n",
        "print(f\"- DerivedDerived = {isinstance(derived_derived_instance, DerivedDerived)}\")\n",
        "print(f\"- Derived = {isinstance(derived_derived_instance, Derived)}\")\n",
        "print(f\"- Base = {isinstance(derived_derived_instance, Base)}\")\n",
        "print(f\"- SomeUnrelatedClass = {isinstance(derived_derived_instance, SomeUnrelatedClass)}\")\n",
        "print()\n",
        "print(\"Now using issubclass:\")\n",
        "print(f\"- Derived is subclass of Base = {issubclass(Derived, Base)}\")\n",
        "print(f\"- DerivedDerived is subclass of Base = {issubclass(DerivedDerived, Base)}\")\n",
        "print(f\"- DerivedDerived is subclass of Derived = {issubclass(DerivedDerived, Derived)}\")\n",
        "print(f\"- SomeUnrelatedClass is subclass of Derived = {issubclass(SomeUnrelatedClass, Derived)}\")\n",
        "\n",
        "# Explanation:\n",
        "# So the function `isinstance` checks whether the object that is passed in its parameters\n",
        "# is the subclass of the classinfo mentioned within the parameters whereas `issubclass` function\n",
        "# only checks whether a class is a subclass of a supposed parent class"
      ],
      "metadata": {
        "id": "L_V1bBvDM0GN",
        "colab": {
          "base_uri": "https://localhost:8080/"
        },
        "outputId": "54d3297a-e044-4b61-90ec-b07b5c5b0e4c"
      },
      "execution_count": 12,
      "outputs": [
        {
          "output_type": "stream",
          "name": "stdout",
          "text": [
            "DerivedDerived instance isinstance of:\n",
            "- DerivedDerived = True\n",
            "- Derived = True\n",
            "- Base = True\n",
            "- SomeUnrelatedClass = False\n",
            "\n",
            "Now using issubclass:\n",
            "- Derived is subclass of Base = True\n",
            "- DerivedDerived is subclass of Base = True\n",
            "- DerivedDerived is subclass of Derived = True\n",
            "- SomeUnrelatedClass is subclass of Derived = False\n"
          ]
        }
      ]
    },
    {
      "cell_type": "markdown",
      "source": [
        "8. (13б). Створіть клас BankAccount з приватними атрибутами balance та account_number. Реалізуйте методи поповнення та зняття коштів, забезпечивши належну інкапсуляцію. Підказка: використовуйте декоратори property та setter."
      ],
      "metadata": {
        "id": "jjsaBZ-iM0Qq"
      }
    },
    {
      "cell_type": "code",
      "source": [
        "class BankAccount:\n",
        "    def __init__(self, account_number, initial_balance=0.0):\n",
        "        self.__account_number = account_number\n",
        "        self.__balance = initial_balance\n",
        "\n",
        "    @property\n",
        "    def balance(self):\n",
        "        return self.__balance\n",
        "\n",
        "    @property\n",
        "    def account_number(self):\n",
        "        return self.__account_number\n",
        "\n",
        "    @balance.setter\n",
        "    def balance(self, new_balance):\n",
        "        if new_balance < 0:\n",
        "            raise ValueError(\"Error: Balance cannot be negative.\")\n",
        "        else:\n",
        "            self.__balance = new_balance"
      ],
      "metadata": {
        "id": "xCvZ7lh8M7YA",
        "colab": {
          "base_uri": "https://localhost:8080/"
        },
        "outputId": "6c2fadd4-a0e7-4aa4-8982-05368fa74125"
      },
      "execution_count": 18,
      "outputs": [
        {
          "output_type": "stream",
          "name": "stdout",
          "text": [
            "Account Number: 123456789\n",
            "Current Balance: 1000.0\n",
            "Updated Balance: 100\n"
          ]
        }
      ]
    },
    {
      "cell_type": "markdown",
      "source": [
        "9. (11б). Створіть клас Library, який містить список об'єктів типу Book. Реалізуйте методи для додавання книги, видалення книги та відображення списку книг."
      ],
      "metadata": {
        "id": "tIzL2SJTM8ft"
      }
    },
    {
      "cell_type": "code",
      "source": [
        "class Book:\n",
        "    def __init__(self, title, author):\n",
        "        self.title = title\n",
        "        self.author = author\n",
        "\n",
        "class Library:\n",
        "    def __init__(self):\n",
        "        self.books = []\n",
        "\n",
        "    def add_book(self, book):\n",
        "        self.books.append(book)\n",
        "\n",
        "    def remove_book(self, title):\n",
        "        for book in self.books:\n",
        "            if book.title == title:\n",
        "                self.books.remove(book)\n",
        "                break\n",
        "            else:\n",
        "                raise ValueError(f\"Book with title '{title}' not found in the library.\")\n",
        "\n",
        "    def __str__(self):\n",
        "        if not self.books:\n",
        "            return \"The library is empty.\"\n",
        "        else:\n",
        "            book_list = \"\\n\".join([f\"{book.title} by {book.author}\" for book in self.books])\n",
        "            return \"Books in the library:\\n\" + book_list"
      ],
      "metadata": {
        "id": "HWxfJKLtNAUZ",
        "colab": {
          "base_uri": "https://localhost:8080/"
        },
        "outputId": "73fa3e5d-dc98-4a8a-dc72-e0a9cdaafd05"
      },
      "execution_count": 23,
      "outputs": [
        {
          "output_type": "stream",
          "name": "stdout",
          "text": [
            "The library is empty.\n",
            "Books in the library:\n",
            "The Great Gatsby by F. Scott Fitzgerald\n",
            "To Kill a Mockingbird by Harper Lee\n",
            "Books in the library:\n",
            "To Kill a Mockingbird by Harper Lee\n"
          ]
        }
      ]
    },
    {
      "cell_type": "markdown",
      "source": [
        "10. (13б). Створіть клас Person з атрибутами name та age. Створіть ще один клас Employee з такими атрибутами, як department та salary. Створіть клас Manager, який успадковує обидва класи Person та Employee. Продемонструйте використання множинної спадковості, створивши обʼєкт класу Manager та отримавши mro для цього класу."
      ],
      "metadata": {
        "id": "lmV8pAwwNIqu"
      }
    },
    {
      "cell_type": "code",
      "source": [
        "class Person:\n",
        "    def __init__(self, name, age):\n",
        "        self.name = name\n",
        "        self.age = age\n",
        "\n",
        "class Employee:\n",
        "    def __init__(self, department, salary):\n",
        "        self.department = department\n",
        "        self.salary = salary\n",
        "\n",
        "class Manager(Person, Employee):\n",
        "    def __init__(self, name, age, department, salary):\n",
        "        Person.__init__(self, name, age)\n",
        "        Employee.__init__(self, department, salary)\n",
        "\n",
        "\n",
        "manager = Manager(name=\"John Doe\", age=35, department=\"HR\", salary=50000)\n",
        "\n",
        "print(f\"Name: {manager.name}\")\n",
        "print(f\"Age: {manager.age}\")\n",
        "print(f\"Department: {manager.department}\")\n",
        "print(f\"Salary: {manager.salary}\")\n",
        "\n",
        "print(f\"MRO for Manager: {Manager.mro()}\")"
      ],
      "metadata": {
        "id": "R49grKlWNPeN",
        "colab": {
          "base_uri": "https://localhost:8080/"
        },
        "outputId": "529763f8-85fc-4661-eceb-059b909efbd7"
      },
      "execution_count": 25,
      "outputs": [
        {
          "output_type": "stream",
          "name": "stdout",
          "text": [
            "Name: John Doe\n",
            "Age: 35\n",
            "Department: HR\n",
            "Salary: 50000\n",
            "MRO for Manager: [<class '__main__.Manager'>, <class '__main__.Person'>, <class '__main__.Employee'>, <class 'object'>]\n"
          ]
        }
      ]
    },
    {
      "cell_type": "markdown",
      "source": [
        "# II. Iterator"
      ],
      "metadata": {
        "id": "dIJyUiNBFG8G"
      }
    },
    {
      "cell_type": "markdown",
      "source": [
        "11. (4б). Визначте рядок(str) з 4ма різними за значенням символами. Створіть ітератор на основі цього рядка. Викличте 5 разів функцію next на ітераторі, 4ри перших з них огорніть у ф-цію print()."
      ],
      "metadata": {
        "id": "13vsm0NyKIzL"
      }
    },
    {
      "cell_type": "code",
      "source": [
        "my_string = \"abcd\"\n",
        "my_iterator = iter(my_string)\n",
        "\n",
        "for i in range(5):\n",
        "    try:\n",
        "        next_element = next(my_iterator)\n",
        "        if i < 4:\n",
        "            print(next_element)\n",
        "    except StopIteration:\n",
        "        print(\"Iterator has finished the work.\")\n",
        "        break"
      ],
      "metadata": {
        "id": "81ntabAkKuz-",
        "colab": {
          "base_uri": "https://localhost:8080/"
        },
        "outputId": "c71093b8-78bb-4947-b801-fb8969ce9eec"
      },
      "execution_count": 28,
      "outputs": [
        {
          "output_type": "stream",
          "name": "stdout",
          "text": [
            "a\n",
            "b\n",
            "c\n",
            "d\n",
            "Iterator has finished the work.\n"
          ]
        }
      ]
    },
    {
      "cell_type": "markdown",
      "source": [
        "А що якщо викликати цю ж функцію на рядку?"
      ],
      "metadata": {
        "id": "aekWHGXOLRsO"
      }
    },
    {
      "cell_type": "code",
      "source": [
        "some_string = \"asfasdfsadf\"\n",
        "some_next = next(some_string) # results in TypeError"
      ],
      "metadata": {
        "id": "mxATGsErLV1i",
        "colab": {
          "base_uri": "https://localhost:8080/",
          "height": 161
        },
        "outputId": "ec6f4a5e-42b5-4891-d5bf-164eb6b7f058"
      },
      "execution_count": 31,
      "outputs": [
        {
          "output_type": "error",
          "ename": "TypeError",
          "evalue": "'str' object is not an iterator",
          "traceback": [
            "\u001b[0;31m---------------------------------------------------------------------------\u001b[0m",
            "\u001b[0;31mTypeError\u001b[0m                                 Traceback (most recent call last)",
            "\u001b[0;32m<ipython-input-31-0140f0b8ba75>\u001b[0m in \u001b[0;36m<cell line: 2>\u001b[0;34m()\u001b[0m\n\u001b[1;32m      1\u001b[0m \u001b[0msome_string\u001b[0m \u001b[0;34m=\u001b[0m \u001b[0;34m\"asfasdfsadf\"\u001b[0m\u001b[0;34m\u001b[0m\u001b[0;34m\u001b[0m\u001b[0m\n\u001b[0;32m----> 2\u001b[0;31m \u001b[0msome_next\u001b[0m \u001b[0;34m=\u001b[0m \u001b[0mnext\u001b[0m\u001b[0;34m(\u001b[0m\u001b[0msome_string\u001b[0m\u001b[0;34m)\u001b[0m \u001b[0;31m# results in TypeError\u001b[0m\u001b[0;34m\u001b[0m\u001b[0;34m\u001b[0m\u001b[0m\n\u001b[0m",
            "\u001b[0;31mTypeError\u001b[0m: 'str' object is not an iterator"
          ]
        }
      ]
    },
    {
      "cell_type": "markdown",
      "source": [
        " 12. (5б). Опишіть своїми словами в одному реченні, як ви розумієте різницю між ітерабельними обʼєктами та ітераторами (можна на прикладі)."
      ],
      "metadata": {
        "id": "XwtMEopwJ4pH"
      }
    },
    {
      "cell_type": "markdown",
      "source": [
        "Ітерабельні об'єкти це об'єкти класів, які забезпечують можливість проітеруватись по ним ітератором (наприклад, якась колекція). Ітератор це сутність, яка інкапсулює в собі логіку ітерації по ітерабельному об'єкту (наприклад, ітератор для проходу по бінарному дереву зліва направо)."
      ],
      "metadata": {
        "id": "-sHrODc3KFn8"
      }
    },
    {
      "cell_type": "markdown",
      "source": [
        "13. (11б). Створіть клас, що має визначений Iterator Protocol та при кожному виклику next повертає літери англійської абетки, поки вони не вичерпаються."
      ],
      "metadata": {
        "id": "E9qJWmNbK8Gl"
      }
    },
    {
      "cell_type": "code",
      "source": [
        "class AlphabetIterator:\n",
        "    def __init__(self):\n",
        "        self.current_char = ord('a')\n",
        "\n",
        "    def __iter__(self):\n",
        "        return self\n",
        "\n",
        "    def __next__(self):\n",
        "        if self.current_char <= ord('z'):\n",
        "            char = chr(self.current_char)\n",
        "            self.current_char += 1\n",
        "            return char\n",
        "        else:\n",
        "            raise StopIteration\n",
        "\n",
        "alphabet_iterator = AlphabetIterator()\n",
        "\n",
        "for char in alphabet_iterator:\n",
        "    print(char)"
      ],
      "metadata": {
        "id": "cqx-g_RsLo6I",
        "colab": {
          "base_uri": "https://localhost:8080/"
        },
        "outputId": "ec10937f-6e0d-437d-c873-8ffefb88b314"
      },
      "execution_count": 35,
      "outputs": [
        {
          "output_type": "stream",
          "name": "stdout",
          "text": [
            "a\n",
            "b\n",
            "c\n",
            "d\n",
            "e\n",
            "f\n",
            "g\n",
            "h\n",
            "i\n",
            "j\n",
            "k\n",
            "l\n",
            "m\n",
            "n\n",
            "o\n",
            "p\n",
            "q\n",
            "r\n",
            "s\n",
            "t\n",
            "u\n",
            "v\n",
            "w\n",
            "x\n",
            "y\n",
            "z\n"
          ]
        }
      ]
    },
    {
      "cell_type": "markdown",
      "source": [
        "# Вітаю! Ви велика(ий) молодець, що впоралась(вся). Похваліть себе та побалуйте чимось приємним. Я Вами пишаюся."
      ],
      "metadata": {
        "id": "Z3E3S_s1Fv7-"
      }
    }
  ]
}