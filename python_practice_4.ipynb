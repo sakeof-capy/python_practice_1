{
  "nbformat": 4,
  "nbformat_minor": 0,
  "metadata": {
    "colab": {
      "provenance": []
    },
    "kernelspec": {
      "name": "python3",
      "display_name": "Python 3"
    },
    "language_info": {
      "name": "python"
    }
  },
  "cells": [
    {
      "cell_type": "markdown",
      "source": [
        "# I. Functions. Arguments."
      ],
      "metadata": {
        "id": "kXpppdVm6wFy"
      }
    },
    {
      "cell_type": "markdown",
      "source": [
        "1. (5б) Назвіть основні 4 смислові  частини, з яких складається функція."
      ],
      "metadata": {
        "id": "u_krJdlbAkVz"
      }
    },
    {
      "cell_type": "markdown",
      "source": [
        "1. Назва функції\n",
        "2. Аргументи (параметри)\n",
        "3. Тіло функції\n",
        "4. Те, що функція повертає ( [return] )"
      ],
      "metadata": {
        "id": "KKTrTXmHAptb"
      }
    },
    {
      "cell_type": "markdown",
      "source": [
        "2. (3б) Визначте функцію, що приймає 2 аргументи та повертає результат ділення 1го аргумента на інший."
      ],
      "metadata": {
        "id": "ORM4PqJQAtDM"
      }
    },
    {
      "cell_type": "code",
      "execution_count": null,
      "metadata": {
        "id": "EuDx-z8M6sLo"
      },
      "outputs": [],
      "source": [
        "def divide_numbers(a, b):\n",
        "    return a / b"
      ]
    },
    {
      "cell_type": "markdown",
      "source": [
        "3. (2б) Викличте вище визначену функцію, де другий аргумент дорівнює 0."
      ],
      "metadata": {
        "id": "5joQGQ-SAyMe"
      }
    },
    {
      "cell_type": "code",
      "source": [
        "a = 2\n",
        "b = 0\n",
        "division_result = divide_numbers(a, b)\n",
        "print(\"Division result =\", division_result)"
      ],
      "metadata": {
        "id": "V5cBV1LOA3d-",
        "colab": {
          "base_uri": "https://localhost:8080/",
          "height": 267
        },
        "outputId": "7b8e3433-ded5-41b0-e73b-966047818c90"
      },
      "execution_count": null,
      "outputs": [
        {
          "output_type": "error",
          "ename": "ZeroDivisionError",
          "evalue": "division by zero",
          "traceback": [
            "\u001b[0;31m---------------------------------------------------------------------------\u001b[0m",
            "\u001b[0;31mZeroDivisionError\u001b[0m                         Traceback (most recent call last)",
            "\u001b[0;32m<ipython-input-12-c97917db520f>\u001b[0m in \u001b[0;36m<cell line: 3>\u001b[0;34m()\u001b[0m\n\u001b[1;32m      1\u001b[0m \u001b[0ma\u001b[0m \u001b[0;34m=\u001b[0m \u001b[0;36m2\u001b[0m\u001b[0;34m\u001b[0m\u001b[0;34m\u001b[0m\u001b[0m\n\u001b[1;32m      2\u001b[0m \u001b[0mb\u001b[0m \u001b[0;34m=\u001b[0m \u001b[0;36m0\u001b[0m\u001b[0;34m\u001b[0m\u001b[0;34m\u001b[0m\u001b[0m\n\u001b[0;32m----> 3\u001b[0;31m \u001b[0mdivision_result\u001b[0m \u001b[0;34m=\u001b[0m \u001b[0mdivide_numbers\u001b[0m\u001b[0;34m(\u001b[0m\u001b[0ma\u001b[0m\u001b[0;34m,\u001b[0m \u001b[0mb\u001b[0m\u001b[0;34m)\u001b[0m\u001b[0;34m\u001b[0m\u001b[0;34m\u001b[0m\u001b[0m\n\u001b[0m\u001b[1;32m      4\u001b[0m \u001b[0mprint\u001b[0m\u001b[0;34m(\u001b[0m\u001b[0;34m\"Division result =\"\u001b[0m\u001b[0;34m,\u001b[0m \u001b[0mdivision_result\u001b[0m\u001b[0;34m)\u001b[0m\u001b[0;34m\u001b[0m\u001b[0;34m\u001b[0m\u001b[0m\n",
            "\u001b[0;32m<ipython-input-9-76b279e8a15c>\u001b[0m in \u001b[0;36mdivide_numbers\u001b[0;34m(a, b)\u001b[0m\n\u001b[1;32m      1\u001b[0m \u001b[0;32mdef\u001b[0m \u001b[0mdivide_numbers\u001b[0m\u001b[0;34m(\u001b[0m\u001b[0ma\u001b[0m\u001b[0;34m,\u001b[0m \u001b[0mb\u001b[0m\u001b[0;34m)\u001b[0m\u001b[0;34m:\u001b[0m\u001b[0;34m\u001b[0m\u001b[0;34m\u001b[0m\u001b[0m\n\u001b[0;32m----> 2\u001b[0;31m     \u001b[0;32mreturn\u001b[0m \u001b[0ma\u001b[0m \u001b[0;34m/\u001b[0m \u001b[0mb\u001b[0m\u001b[0;34m\u001b[0m\u001b[0;34m\u001b[0m\u001b[0m\n\u001b[0m",
            "\u001b[0;31mZeroDivisionError\u001b[0m: division by zero"
          ]
        }
      ]
    },
    {
      "cell_type": "markdown",
      "source": [
        "4. (4б) Перевизначте функцію так, щоби у випадку ділення на 0 функція повертала None, а в решті випадків - результат розрахунків."
      ],
      "metadata": {
        "id": "QyimWgW8A43-"
      }
    },
    {
      "cell_type": "code",
      "source": [
        "def divide_numbers_zero_controlled(a, b):\n",
        "    if b == 0:\n",
        "        return None\n",
        "    result = a / b\n",
        "    return result"
      ],
      "metadata": {
        "id": "7VIODtSjA8Ek"
      },
      "execution_count": 13,
      "outputs": []
    },
    {
      "cell_type": "markdown",
      "source": [
        "5. (5б) Визначте функцію, що віднімає одне число від іншого (підказка: це буде 2 аргументи функції). При чому, якщо не визначити, скільки саме має бути віднято від числа, за замовчуванням має відніматися 1. Викличте функцію, передаючи тільки один аргумент."
      ],
      "metadata": {
        "id": "Y8mN0GfkA81l"
      }
    },
    {
      "cell_type": "code",
      "source": [
        "def subtract_numbers(a, b=1):\n",
        "    return a - b\n",
        "\n",
        "subtraction_result = subtract_numbers(10)\n",
        "print(\"Результат віднімання: \", subtraction_result)"
      ],
      "metadata": {
        "id": "vg1kxkdgBA50",
        "colab": {
          "base_uri": "https://localhost:8080/"
        },
        "outputId": "44e92e9f-1741-4fb6-dfb0-fdc73a3367f4"
      },
      "execution_count": 8,
      "outputs": [
        {
          "output_type": "stream",
          "name": "stdout",
          "text": [
            "Результат віднімання:  9\n"
          ]
        }
      ]
    },
    {
      "cell_type": "markdown",
      "source": [
        "6. (7б) Визначте функцію, яка приймає iterable (ітерабельний обʼєкт, напр. список), що складається з 7ми рядкових значень - назв погодних умов (напр. \"sunny\") за кожен день у тижні. Повертає функція словник, де ключами є рядки з погодними умовами, а значеннями - кількість разів, скільки дана погода була протягом тижня (напр. {'sunny': 1, ...}). Викличте цю функцію та виведіть результат її роботи на екран."
      ],
      "metadata": {
        "id": "D3mwQGNOBBs4"
      }
    },
    {
      "cell_type": "code",
      "source": [
        "def count_weather_conditions(weekly_weather):\n",
        "    weather_count = {}\n",
        "    for condition in weekly_weather:\n",
        "        if condition in weather_count:\n",
        "            weather_count[condition] += 1\n",
        "        else:\n",
        "            weather_count[condition] = 1\n",
        "    return weather_count\n",
        "\n",
        "weekly_weather_conditions = [\"sunny\", \"cloudy\", \"rainy\", \"sunny\", \"snowy\", \"cloudy\", \"sunny\"]\n",
        "counted_weather_conditions = count_weather_conditions(weekly_weather_conditions)\n",
        "print(counted_weather_conditions)"
      ],
      "metadata": {
        "id": "OsWm-hKcBFyn",
        "colab": {
          "base_uri": "https://localhost:8080/"
        },
        "outputId": "8d97b6e3-4c41-48ae-b642-29e33ba99d69"
      },
      "execution_count": null,
      "outputs": [
        {
          "output_type": "stream",
          "name": "stdout",
          "text": [
            "{'sunny': 3, 'cloudy': 2, 'rainy': 1, 'snowy': 1}\n"
          ]
        }
      ]
    },
    {
      "cell_type": "markdown",
      "source": [
        "7. (15б) Напишіть програму, яка б шукала необхідне число у впорядкованому списку цілочислених значень, де\n",
        "число має вводитись з консолі.\n",
        "власне алгоритм пошуку винесений в окрему функцію, яка повертає булеве значення (знайдено число - True, не знайдено - False).\n",
        "в залежності від результату функції, виведіть на екран повідомлення про успішний або ж неуспішний пошук.\n",
        "Зауваження: використовувати оператор in заборонено."
      ],
      "metadata": {
        "id": "RMiCcdOsBKQT"
      }
    },
    {
      "cell_type": "code",
      "source": [
        "def binary_search(search_list, target):\n",
        "    left, right = 0, len(search_list) - 1\n",
        "\n",
        "    while left <= right:\n",
        "        mid = (left + right) // 2\n",
        "        mid_value = search_list[mid]\n",
        "\n",
        "        if mid_value == target:\n",
        "            return True\n",
        "        elif mid_value < target:\n",
        "            left = mid + 1\n",
        "        else:\n",
        "            right = mid - 1\n",
        "\n",
        "    return False\n",
        "\n",
        "ordered_list = [1, 3, 5, 7, 9, 11, 13, 15, 17, 19]\n",
        "print(\"List to search in:\", ordered_list)\n",
        "\n",
        "try:\n",
        "    target_number = int(input(\"Enter a number to find: \"))\n",
        "except ValueError:\n",
        "    print(\"Incorrect input.\")\n",
        "    exit()\n",
        "\n",
        "\n",
        "result = binary_search(ordered_list, target_number)\n",
        "\n",
        "if result:\n",
        "    print(f\"The {target_number} number is in list.\")\n",
        "else:\n",
        "    print(f\"The {target_number} number is not in list.\")\n"
      ],
      "metadata": {
        "id": "UNCZg65OBOy-"
      },
      "execution_count": null,
      "outputs": []
    },
    {
      "cell_type": "markdown",
      "source": [
        "# II. Lambda functions."
      ],
      "metadata": {
        "id": "Ae1n_OvLBTsy"
      }
    },
    {
      "cell_type": "markdown",
      "source": [
        "8. (4б) В яких випадках варто використовувати лямбда-функції?"
      ],
      "metadata": {
        "id": "xaD_wSlaCWen"
      }
    },
    {
      "cell_type": "markdown",
      "source": [
        "1. Коли існує потреба у невеликій локальній функції;\n",
        "2. Коли маємо передати якусь функцію в іншу функцію (наприклад, `map`, `filter`, `sorted`)"
      ],
      "metadata": {
        "id": "42MB6OoLCakR"
      }
    },
    {
      "cell_type": "markdown",
      "source": [
        "9. (9б) Визначте список з рядками. Після цього визначте анонімну функцію для отримання першого символу у верхньому регістрі для кожного рядка списку.\n",
        "Підказка: використовуйте анонімну функцію в якості агрумента до вбудованої ф-ції, яка створена для застосування функцій над iterable обʼєктами. Результат виведіть на екран у вигляді кортежу."
      ],
      "metadata": {
        "id": "USrzrk7GCedk"
      }
    },
    {
      "cell_type": "code",
      "source": [
        "string_list = [\"astring\", \"bstring\", \"Cstring\", \"dstring\"]\n",
        "get_first_uppercase_char = lambda s: s[0].upper()\n",
        "result_tuple = tuple(map(get_first_uppercase_char, string_list))\n",
        "print(result_tuple)"
      ],
      "metadata": {
        "id": "M8QWUsMlCjWH"
      },
      "execution_count": null,
      "outputs": []
    },
    {
      "cell_type": "markdown",
      "source": [
        "10. (10б) Визначте список з числовими значеннями (і цілими, і з рухомою комою). а) Відфільтруйте всі числа, які діляться націло на 3 за допомогою вбудованої функції та анонімної функції в якості аргумента). Збережіть результат у змінній, не приводяти явно до будь-якого типу. б) Використовуючи результат на кроці 12.а у якості аргументу, та за допомогою лямбда-функції в якості іншого аргументу до вбудованої функції, додайте до кожного елементу число 1 та опісля зведіть у квадрат. Остаточний результат приведіть явно до списку та виведіть на екран."
      ],
      "metadata": {
        "id": "9fyUhXOoCtGp"
      }
    },
    {
      "cell_type": "code",
      "source": [
        "numeric_list = [3.0, 4, 7, 9, 12.5, 15, 18.2, 21, 24]\n",
        "dividents_of_3 = filter(lambda x: x % 3 == 0, numeric_list)\n",
        "modified_numbers = map(lambda x: (x + 1)**2, dividents_of_3)\n",
        "final_result = list(modified_numbers)\n",
        "print(final_result)"
      ],
      "metadata": {
        "id": "exEx2_okCsql"
      },
      "execution_count": null,
      "outputs": []
    },
    {
      "cell_type": "markdown",
      "source": [
        "# III. Decorators."
      ],
      "metadata": {
        "id": "o_x8cG_WC7jp"
      }
    },
    {
      "cell_type": "markdown",
      "source": [
        "11. (11б) Визначте декоратор, який би виводив у консоль повідомлення про початок роботи і назву функції (напр. my_function._ _ name _ _), а після відпрацювання функції - повідомлення про закінчення роботи і назву функції, що задекорована."
      ],
      "metadata": {
        "id": "mhxS4-mfC8LQ"
      }
    },
    {
      "cell_type": "code",
      "source": [
        "def monitor(func):\n",
        "    def wrapper(*args, **kwargs):\n",
        "        print(f\"Start of: {func.__name__}.\")\n",
        "        result = func(*args, **kwargs)\n",
        "        print(f\"End of: {func.__name__}.\")\n",
        "        return result\n",
        "\n",
        "    return wrapper\n",
        "\n",
        "@monitor\n",
        "def my_function():\n",
        "    print(\"Function Body.\")\n",
        "\n",
        "my_function()\n"
      ],
      "metadata": {
        "id": "srd1ygWjDGhO",
        "colab": {
          "base_uri": "https://localhost:8080/"
        },
        "outputId": "256bf544-660f-40e4-bf73-86d9bbeb829c"
      },
      "execution_count": 2,
      "outputs": [
        {
          "output_type": "stream",
          "name": "stdout",
          "text": [
            "Start of: my_function.\n",
            "Function Body.\n",
            "End of: my_function.\n"
          ]
        }
      ]
    },
    {
      "cell_type": "markdown",
      "source": [
        "12. (4б) Задекоруйте двома різними способами функції з завдання 4 та 5 декоратором із завдання 11. (**УВАГА**: не декоруйте функції двічі!)."
      ],
      "metadata": {
        "id": "rxGZwVBiDph3"
      }
    },
    {
      "cell_type": "code",
      "source": [
        "# In order to follow DRY, I do not copy past definitions\n",
        "# of function from tasks 3-4. I just assume that the scripts of\n",
        "# task 4 and 5 are run before running this script. Otherwise\n",
        "# the functions from tasks 3-4 are not gonna be seen here.\n",
        "\n",
        "# First way to decorate function from task 5\n",
        "@monitor\n",
        "def monitored_subtract_numbers1(a, b=1):\n",
        "    return subtract_numbers(a, b)\n",
        "\n",
        "# Second way to decorate function from task 5\n",
        "monitored_subtract_numbers2 = monitor(subtract_numbers)\n",
        "\n",
        "# First way to decorate function from task 4\n",
        "@monitor\n",
        "def monitored_divide_numbers_zero_controlled1(a, b):\n",
        "    divide_numbers_zero_controlled(a, b)\n",
        "\n",
        "# Second way to decorate function from task 4\n",
        "monitored_divide_numbers_zero_controlled2 = monitor(divide_numbers_zero_controlled)"
      ],
      "metadata": {
        "id": "06lj7eq_DwZe"
      },
      "execution_count": 14,
      "outputs": []
    },
    {
      "cell_type": "markdown",
      "source": [
        "13. (2б) Викличте одну з задекорованих функцій і виведіть її результат на екран."
      ],
      "metadata": {
        "id": "P0ep1urBDzf-"
      }
    },
    {
      "cell_type": "code",
      "source": [
        "subtraction_result = monitored_subtract_numbers2(1, 2)\n",
        "print(\"Subtraction result =\", subtraction_result)"
      ],
      "metadata": {
        "id": "1QvTw0ctD0S3",
        "colab": {
          "base_uri": "https://localhost:8080/"
        },
        "outputId": "55ebde03-ed5f-4273-ea49-e10112173d45"
      },
      "execution_count": 15,
      "outputs": [
        {
          "output_type": "stream",
          "name": "stdout",
          "text": [
            "Start of: subtract_numbers.\n",
            "End of: subtract_numbers.\n",
            "Subtraction result = -1\n"
          ]
        }
      ]
    },
    {
      "cell_type": "markdown",
      "source": [
        "# IV. Recursion."
      ],
      "metadata": {
        "id": "poECCpuoD2S9"
      }
    },
    {
      "cell_type": "markdown",
      "source": [
        "14. (4б) Назвіть дві частини функції, які є обовʼязковими для того, щоб називати її рекурсивною."
      ],
      "metadata": {
        "id": "DqkURfdsD7MY"
      }
    },
    {
      "cell_type": "markdown",
      "source": [
        "1. Умова зупину, стандартний випадок\n",
        "2. Рекурсивний виклик, який наближає програму до стандартного випадку"
      ],
      "metadata": {
        "id": "HYW6ttIeIQIU"
      }
    },
    {
      "cell_type": "markdown",
      "source": [
        "15. (15б) Визначте функцію, яка рекурсивно реалізовує пошук числа у послідовності Фібоначчі за її індексом (нумерація починається з нуля). Наприклад, потрібно знайти перше число у послідовності, тоді функція прийматиме 0 у якості аргумента і повертатиме 1, якщо ж знаходити третє число (індекс 2) послідовності, то функція повертатиме 2, якщо ж знаходити десяте число (індекс 9), то функція повертатиме 55."
      ],
      "metadata": {
        "id": "WYVt20UmEA35"
      }
    },
    {
      "cell_type": "code",
      "source": [
        "def fibonacci_at(index):\n",
        "    if index == 0:\n",
        "        return 0\n",
        "    elif index == 1:\n",
        "        return 1\n",
        "    else:\n",
        "        return fibonacci_at(index - 1) + fibonacci_at(index - 2)\n",
        "\n",
        "index = 10\n",
        "result = fibonacci_at(index)\n",
        "print(f\"Fibonacci at {index} = {result}\")"
      ],
      "metadata": {
        "id": "xIMhp05AIpV_",
        "colab": {
          "base_uri": "https://localhost:8080/"
        },
        "outputId": "8ecb41be-a274-4607-ad84-5e2ff23fd966"
      },
      "execution_count": 17,
      "outputs": [
        {
          "output_type": "stream",
          "name": "stdout",
          "text": [
            "Fibonacci at 10 = 55\n"
          ]
        }
      ]
    },
    {
      "cell_type": "markdown",
      "source": [
        "# Вітаю! Ви велика(ий) молодець, що впоралась(вся). Похваліть себе та побалуйте чимось приємним. Я Вами пишаюся."
      ],
      "metadata": {
        "id": "ytXC8n_4Ip0W"
      }
    }
  ]
}