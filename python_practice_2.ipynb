{
  "nbformat": 4,
  "nbformat_minor": 0,
  "metadata": {
    "colab": {
      "provenance": []
    },
    "kernelspec": {
      "name": "python3",
      "display_name": "Python 3"
    },
    "language_info": {
      "name": "python"
    }
  },
  "cells": [
    {
      "cell_type": "markdown",
      "source": [
        "# I. Змінні та памʼять."
      ],
      "metadata": {
        "id": "p9wwt0LZzNvn"
      }
    },
    {
      "cell_type": "markdown",
      "source": [
        "1. Створити змінні, що посилаються на два цілих числа, що однакові за значенням, де значення належить проміжку від -5 до 256. Перевірте, чи будуть ці змінні рівні тільки за значенням або ж ще будуть посилатися на один і той самий обʼєкт в памʼяті? Наведіть код та дайте текстову відповідь нижче."
      ],
      "metadata": {
        "id": "HTJrrm95xSV9"
      }
    },
    {
      "cell_type": "code",
      "execution_count": 3,
      "metadata": {
        "id": "TATni2vzayjG",
        "colab": {
          "base_uri": "https://localhost:8080/"
        },
        "outputId": "64a46360-693a-46ed-c175-2e64e3234d0d"
      },
      "outputs": [
        {
          "output_type": "stream",
          "name": "stdout",
          "text": [
            "Values are equal: True\n",
            "References are equal: True\n"
          ]
        }
      ],
      "source": [
        "a = 32\n",
        "b = 32\n",
        "\n",
        "are_values_equal = a == b\n",
        "are_references_equal = a is b\n",
        "\n",
        "print(\"Values are equal:\", are_values_equal)\n",
        "print(\"References are equal:\", are_references_equal)\n"
      ]
    },
    {
      "cell_type": "markdown",
      "source": [
        "Працюючи з цілими числами, `Python` використовує техніку \"integer caching\". Вона полягає у тому, що цілі числа з проміжку `[-5, 256]` кешуються, і коли ми ініціалізуємо ними змінну, то, по суті, ми ініціалізуємо її під капотом посиланням на закешовані значення, хоча зовні це не помітно (якщо не порівнювати адреси, id). Тому створені у наведеному коді змінні будуть рівні і за значенням, і за посиланням, адже вони обидві посилаються на один і той же об'єкт. Якби замість числа `32` ми обрали число 257, то за значенням змінні були б залишились рівні, а посилання відрізнялися б."
      ],
      "metadata": {
        "id": "zfRG_o3WbRdg"
      }
    },
    {
      "cell_type": "markdown",
      "source": [
        "2. За допомогою якої функції можна перевірити належність змінної до вказаного типу даних (напр. чи змінна True посилається на значення булевого та цілочисленого типу)?"
      ],
      "metadata": {
        "id": "ISORzt6M3vAt"
      }
    },
    {
      "cell_type": "code",
      "source": [
        "variable_true = True\n",
        "variable_integer = 42\n",
        "\n",
        "is_bool = isinstance(variable_true, bool)\n",
        "print(\"variable_true is bool:\", is_bool)\n",
        "\n",
        "is_integer = type(variable_integer) is int\n",
        "print(\"variable_integer is int:\", is_integer)\n"
      ],
      "metadata": {
        "id": "9vL9CFaMbfyo",
        "colab": {
          "base_uri": "https://localhost:8080/"
        },
        "outputId": "c381d107-c886-418b-aab4-2d89e9dcff23"
      },
      "execution_count": 22,
      "outputs": [
        {
          "output_type": "stream",
          "name": "stdout",
          "text": [
            "variable_true is bool: True\n",
            "variable_integer is int: True\n"
          ]
        }
      ]
    },
    {
      "cell_type": "markdown",
      "source": [
        "# II. Цілі числа та числа з рухомою комою"
      ],
      "metadata": {
        "id": "tRxugKAxwYLw"
      }
    },
    {
      "cell_type": "markdown",
      "source": [
        "3. Створити дві змінні, що посилаються на будь-які ціле число та число з рухомою комою та продемонструвати такі арифметичні операції: додавання, віднімання, ділення, множення, ділення без залишку, ділення по модулю, приведення до ступеню. Всі результати операцій вивести на екран."
      ],
      "metadata": {
        "id": "NLHkgd5Gybc8"
      }
    },
    {
      "cell_type": "code",
      "source": [
        "# Змінні, що посилаються на ціле число та число з рухомою комою\n",
        "integer_var = 5\n",
        "float_var = 2.5\n",
        "\n",
        "addition_result = integer_var + float_var\n",
        "print(\"Addition:\", addition_result)\n",
        "\n",
        "subtraction_result = integer_var - float_var\n",
        "print(\"Subtraction:\", subtraction_result)\n",
        "\n",
        "division_result = integer_var / float_var\n",
        "print(\"Division:\", division_result)\n",
        "\n",
        "multiplication_result = integer_var * float_var\n",
        "print(\"Multiplication:\", multiplication_result)\n",
        "\n",
        "floor_division_result = integer_var // float_var\n",
        "print(\"Floor division::\", floor_division_result)\n",
        "\n",
        "modulus_result = integer_var % float_var\n",
        "print(\"Modulus:\", modulus_result)\n",
        "\n",
        "exponentiation_result = integer_var ** 2\n",
        "print(\"Exponentiation:\", exponentiation_result)\n"
      ],
      "metadata": {
        "id": "nb8u_3pjb2cA",
        "colab": {
          "base_uri": "https://localhost:8080/"
        },
        "outputId": "db3efc6e-3576-44ce-a40f-a9523db2bbc7"
      },
      "execution_count": 9,
      "outputs": [
        {
          "output_type": "stream",
          "name": "stdout",
          "text": [
            "Addition: 7.5\n",
            "Subtraction: 2.5\n",
            "Division: 2.0\n",
            "Multiplication: 12.5\n",
            "Floor division:: 2.0\n",
            "Modulus: 0.0\n",
            "Exponentiation: 25\n"
          ]
        }
      ]
    },
    {
      "cell_type": "markdown",
      "source": [
        "4. Використовуючи змінні з вправи 3, продемонструйте механізм явного перетворення типів, де числа з рухомою комою перетворюються на цілі числа. Також визначте змінну, що посилається на значення булевого типу і спробуйте явно привести її до цілого числа."
      ],
      "metadata": {
        "id": "1kBClKgPzZnC"
      }
    },
    {
      "cell_type": "code",
      "source": [
        "float_var = 2.5\n",
        "\n",
        "converted_float_to_int = int(float_var)\n",
        "print(\"Casting float_var to int:\", converted_float_to_int)\n",
        "\n",
        "bool_var = True\n",
        "\n",
        "converted_bool_to_int = int(bool_var)\n",
        "print(\"Casting bool_var to int:\", converted_bool_to_int)\n"
      ],
      "metadata": {
        "id": "TbqJbkeUcKsD",
        "colab": {
          "base_uri": "https://localhost:8080/"
        },
        "outputId": "d3cfe58e-642a-4c4f-8c14-1fb529bf617a"
      },
      "execution_count": 11,
      "outputs": [
        {
          "output_type": "stream",
          "name": "stdout",
          "text": [
            "Casting float_var to int: 2\n",
            "Casting bool_var to int: 1\n"
          ]
        }
      ]
    },
    {
      "cell_type": "markdown",
      "source": [
        "# IІІ. Рядки (String)."
      ],
      "metadata": {
        "id": "EVJ7AflwxrZi"
      }
    },
    {
      "cell_type": "markdown",
      "source": [
        "5. Створити пустий рядок двома різними способами."
      ],
      "metadata": {
        "id": "_s5ECzz9zE61"
      }
    },
    {
      "cell_type": "code",
      "source": [
        "empty_string_literal = ''\n",
        "empty_string_constructor = str()\n",
        "\n",
        "assert len(empty_string_literal) == 0\n",
        "assert len(empty_string_constructor) == 0"
      ],
      "metadata": {
        "id": "fkZJHu9Scvc-"
      },
      "execution_count": 13,
      "outputs": []
    },
    {
      "cell_type": "markdown",
      "source": [
        "6. Створити рядок з апострофом. Зробити його сирим. Вивести обидва рядка на екран."
      ],
      "metadata": {
        "id": "4Bdn9J3MzLf_"
      }
    },
    {
      "cell_type": "code",
      "source": [
        "string_with_apostrophe = '\\''\n",
        "raw_string_with_apostrophe = rf'{string_with_apostrophe}'\n",
        "\n",
        "print(string_with_apostrophe)\n",
        "print(raw_string_with_apostrophe)"
      ],
      "metadata": {
        "id": "ivji_hsmc0GH",
        "colab": {
          "base_uri": "https://localhost:8080/"
        },
        "outputId": "2423c2a3-f42b-4bbd-ad32-1e2d88d066ea"
      },
      "execution_count": 31,
      "outputs": [
        {
          "output_type": "stream",
          "name": "stdout",
          "text": [
            "'\n",
            "'\n"
          ]
        }
      ]
    },
    {
      "cell_type": "markdown",
      "source": [
        "7. Створити змінну, що буде посилатися на Ваше прізвище латинкою. Створити форматований рядок, який буде мати вигляд \"My surname is ______\", де на місці нижніх підкреслень буде Ваше прізвище зі змінної."
      ],
      "metadata": {
        "id": "bg_d8wM4z8dS"
      }
    },
    {
      "cell_type": "code",
      "source": [
        "surname = 'Zymovets'\n",
        "formatted_surname = f'My surname is {surname}'"
      ],
      "metadata": {
        "id": "kuxFgpWndACq"
      },
      "execution_count": 32,
      "outputs": []
    },
    {
      "cell_type": "markdown",
      "source": [
        "8. Маючи рядок \"My dog is crazy.\" перетворити його на список [\"my\", \"dog\", \"is\", \"crazy\"]"
      ],
      "metadata": {
        "id": "1Nc6RqvQ0hxU"
      }
    },
    {
      "cell_type": "code",
      "source": [
        "input = \"My dog is crazy.\"\n",
        "output = input[:-1].lower().split()\n",
        "print(output)"
      ],
      "metadata": {
        "id": "w1Ya4RqedUhw",
        "colab": {
          "base_uri": "https://localhost:8080/"
        },
        "outputId": "de879ff7-5daa-4ab8-f0cf-8c7d9ed4433e"
      },
      "execution_count": 41,
      "outputs": [
        {
          "output_type": "stream",
          "name": "stdout",
          "text": [
            "['my', 'dog', 'is', 'crazy']\n"
          ]
        }
      ]
    },
    {
      "cell_type": "markdown",
      "source": [
        "# IV. Робота зі списками."
      ],
      "metadata": {
        "id": "GYVqN9uP1D4n"
      }
    },
    {
      "cell_type": "markdown",
      "source": [
        "9. Створити список двома різними за синтаксисом способами. За допомогою вбудованої функції обчисліть довжину одного з них."
      ],
      "metadata": {
        "id": "7-DeDunw2sO-"
      }
    },
    {
      "cell_type": "code",
      "source": [
        "list_method_1 = [0, 1, 2, 3, 4, 5]\n",
        "list_method_2 = list((6, 7, 8, 9))\n",
        "\n",
        "length_of_list_method_1 = len(list_method_1)\n",
        "\n",
        "print(\"list created via method 1:\", list_method_1)\n",
        "print(\"list created via method 2:\", list_method_2)\n",
        "print(\"length of the first list:\", length_of_list_method_1)\n"
      ],
      "metadata": {
        "id": "zxg06Uuxdyoh",
        "colab": {
          "base_uri": "https://localhost:8080/"
        },
        "outputId": "c7658f15-a51a-4961-89fc-5472f4395db3"
      },
      "execution_count": 44,
      "outputs": [
        {
          "output_type": "stream",
          "name": "stdout",
          "text": [
            "list created via method 1: [0, 1, 2, 3, 4, 5]\n",
            "list created via method 2: [6, 7, 8, 9]\n",
            "length of the first list: 6\n"
          ]
        }
      ]
    },
    {
      "cell_type": "markdown",
      "source": [
        "10. Створіть два списка та за допомогою спеціального методу додайте другий з них в якості останнього елемента першого."
      ],
      "metadata": {
        "id": "8vmGUTjL22gI"
      }
    },
    {
      "cell_type": "code",
      "source": [
        "list1 = [0, 1, 2]\n",
        "list2 = [3, 4, 5]\n",
        "list1.append(list2)\n",
        "print(list1)"
      ],
      "metadata": {
        "id": "uHtjWYw7d7hm",
        "colab": {
          "base_uri": "https://localhost:8080/"
        },
        "outputId": "e42d22ce-4f54-47e6-d04f-3cf6318b2c0d"
      },
      "execution_count": 48,
      "outputs": [
        {
          "output_type": "stream",
          "name": "stdout",
          "text": [
            "[0, 1, 2, [3, 4, 5]]\n"
          ]
        }
      ]
    },
    {
      "cell_type": "markdown",
      "source": [
        "11. Створіть список, де елементами цього списку також є списки. Отримай перший елемент з останнього рядка та виведи значення на екран."
      ],
      "metadata": {
        "id": "JC3BkD-67_--"
      }
    },
    {
      "cell_type": "code",
      "source": [
        "list2d = [[0, 1, 2], [3, 4, 5], [6, 7, 8]]\n",
        "first_of_last = list2d[-1][0]\n",
        "print(\"First element of the last element in list2d:\", first_of_last)"
      ],
      "metadata": {
        "id": "Kz2jZHsGeLlz",
        "colab": {
          "base_uri": "https://localhost:8080/"
        },
        "outputId": "df77e6cb-7520-438a-92a7-b249cd8df2ce"
      },
      "execution_count": 49,
      "outputs": [
        {
          "output_type": "stream",
          "name": "stdout",
          "text": [
            "First element of the last element in list2d: 6\n"
          ]
        }
      ]
    },
    {
      "cell_type": "markdown",
      "source": [
        "12. Створіть список з десяти елементів різного типу. Отримайте всі елементи, окрім двох перших та двох останніх та збережіть їх в новій змінній."
      ],
      "metadata": {
        "id": "JA47PKTv8zFK"
      }
    },
    {
      "cell_type": "code",
      "source": [
        "some_list = [1, False, \"I\", \"Love\", \"Capybaras\", 2, 3.14159]\n",
        "trimmed_list = some_list[2:-2]\n",
        "print(\"Trimmed list:\", trimmed_list)"
      ],
      "metadata": {
        "id": "_rHdUR-ueP4-",
        "colab": {
          "base_uri": "https://localhost:8080/"
        },
        "outputId": "118bc508-dc86-471a-8e19-bc33f8dd6fca"
      },
      "execution_count": 50,
      "outputs": [
        {
          "output_type": "stream",
          "name": "stdout",
          "text": [
            "Trimmed list: ['I', 'Love', 'Capybaras']\n"
          ]
        }
      ]
    },
    {
      "cell_type": "markdown",
      "source": [
        "# V. Робота з кортежами."
      ],
      "metadata": {
        "id": "pCjR1dJb1Qbi"
      }
    },
    {
      "cell_type": "markdown",
      "source": [
        "14. Створити кортеж з один елементом."
      ],
      "metadata": {
        "id": "fAZCxAX06R_k"
      }
    },
    {
      "cell_type": "code",
      "source": [
        "unit_cortege = (127,)\n",
        "assert isinstance(unit_cortege, tuple)"
      ],
      "metadata": {
        "id": "H7d82WkQev3e"
      },
      "execution_count": 53,
      "outputs": []
    },
    {
      "cell_type": "markdown",
      "source": [
        "15. Порівняйте список та кортеж. Назвіть схожості та відмінності, випадки використання."
      ],
      "metadata": {
        "id": "8LCtYcmI6w1M"
      }
    },
    {
      "cell_type": "markdown",
      "source": [
        "Схожості:\n",
        "1. Можливість зберігати об'єкти різних типів\n",
        "2. Можливість індексації\n",
        "3. Можливість визначати вкладені списки/кортежі\n",
        "4. Ітерабельність обох структур\n",
        "\n",
        "Відмінності:\n",
        "1. Кортежі є незмінними (immutable): при \"модифікації\" просто створюється новий екземпляр. Списки є змінними (mutable)\n",
        "2. Синтаксис створення: квадратні дужки для списків, круглі дужки для кортежів. Також у одноелементних кортежів специфічний синтаксис створення: `(1,)`. Взагалі для синтаксису кортежа визначальними є коми, а не дужки. Тому цілком валідним є наступний літерал кортежа: `1, 2, 3` (проте, це не дуже прийнято).\n",
        "3. Списки є повільнішими за кортежі\n",
        "\n",
        "Випадки використання:\n",
        "1. Списки слід використовувати як колекцію, якщо її розмір може бути різним в залежності від умов виконання програми.\n",
        "2. Кортежі слід використовувати, коли потрібно гарантувати певну незмінну структуру даних.\n",
        "3. Кортежі можна використовувати для оптимізацій у деяких випадках (коли можна обійтись без списку)"
      ],
      "metadata": {
        "id": "fUsN1Hnue0C6"
      }
    },
    {
      "cell_type": "markdown",
      "source": [
        "16. Створіть кортеж з 11ти елементів чисел з рухомою комою та отримайте кожен парний за індексом елемент в зворотньому порядку. Наприклад, маючи (1.2, 2.3, 3.3, 4.3, 5.3, 6.3, 7.3, 8.3, 9.3, 0.3), отримати (0.3, 8.3, 6.3, 4.3, 2.3). Результат збережіть в нову змінну та виведіть на екран."
      ],
      "metadata": {
        "id": "m0xrwFijAmDD"
      }
    },
    {
      "cell_type": "code",
      "source": [
        "input = (1.2, 2.3, 3.3, 4.3, 5.3, 6.3, 7.3, 8.3, 9.3, 0.3, 0.5)\n",
        "output = input[::-2]\n",
        "print(output)"
      ],
      "metadata": {
        "id": "p-5DAH6XfAGA",
        "colab": {
          "base_uri": "https://localhost:8080/"
        },
        "outputId": "579bc44d-a5ff-42ff-85b6-5f0fac21f51a"
      },
      "execution_count": 61,
      "outputs": [
        {
          "output_type": "stream",
          "name": "stdout",
          "text": [
            "(0.5, 9.3, 7.3, 5.3, 3.3, 1.2)\n"
          ]
        }
      ]
    },
    {
      "cell_type": "markdown",
      "source": [
        "# VI. Множини (Set)."
      ],
      "metadata": {
        "id": "rW_I9dt3x6cW"
      }
    },
    {
      "cell_type": "markdown",
      "source": [
        "17. Створити множину без елементів. Після цого за допомогою методу додайте кілька різних елементів до множини. Чи множини є змінним типом даних?"
      ],
      "metadata": {
        "id": "zNjRLHLw1Bgg"
      }
    },
    {
      "cell_type": "code",
      "source": [
        "my_set = set()\n",
        "\n",
        "my_set.add(1)\n",
        "my_set.add(2)\n",
        "my_set.add(3)\n",
        "\n",
        "print(\"Resulting set:\", my_set)"
      ],
      "metadata": {
        "id": "KOv7zc2Kfo4N",
        "colab": {
          "base_uri": "https://localhost:8080/"
        },
        "outputId": "385be73c-f721-488a-f626-f0c2a7652a36"
      },
      "execution_count": 64,
      "outputs": [
        {
          "output_type": "stream",
          "name": "stdout",
          "text": [
            "Resulting set: {1, 2, 3}\n"
          ]
        }
      ]
    },
    {
      "cell_type": "markdown",
      "source": [
        "Так, множини є змінним типом даних, адже ми можемо модифікувати єдиний екземпляр множини, не створюючи нових екземплярів цього типу."
      ],
      "metadata": {
        "id": "vxS6dVYiftZQ"
      }
    },
    {
      "cell_type": "markdown",
      "source": [
        "18. Створити множину, маючи список my_list = [1, 1, 2, 67, 67, 8, 9]. Пояснити, чому \"зникли\" деякі елементи."
      ],
      "metadata": {
        "id": "gHpT0Zw_1HEF"
      }
    },
    {
      "cell_type": "code",
      "source": [
        "my_list = [1, 1, 2, 67, 67, 8, 9]\n",
        "my_set = set(my_list)\n",
        "\n",
        "print(\"List:\", my_list)\n",
        "print(\"Set:\", my_set)\n"
      ],
      "metadata": {
        "id": "qCN4uvJ_fxmu",
        "colab": {
          "base_uri": "https://localhost:8080/"
        },
        "outputId": "5409d30c-0fd1-47a5-b448-da603b1f80cc"
      },
      "execution_count": 67,
      "outputs": [
        {
          "output_type": "stream",
          "name": "stdout",
          "text": [
            "List: [1, 1, 2, 67, 67, 8, 9]\n",
            "Set: {1, 2, 67, 8, 9}\n"
          ]
        }
      ]
    },
    {
      "cell_type": "markdown",
      "source": [
        "Множина у `Python` не допускає дублювання її елементів. Це зумовлено самим концептом множини, а також алгоритмом (структурою даних), який зазвичай лежить під капотом множини - `hash table`."
      ],
      "metadata": {
        "id": "tFNc1e20fyny"
      }
    },
    {
      "cell_type": "markdown",
      "source": [
        "19. Створіть дві множини. Продемонстуйте над ними операції: обʼєднання, різниці, пересічі та симетричної різниці. Використовуйте методи, що не змінюють множини, а створюють нові."
      ],
      "metadata": {
        "id": "SRMkGizS1UwY"
      }
    },
    {
      "cell_type": "code",
      "source": [
        "set1 = {1, 2, 3, 4, 5}\n",
        "set2 = {3, 4, 5, 6, 7}\n",
        "\n",
        "union_set = set1.union(set2)\n",
        "difference_set = set1.difference(set2)\n",
        "intersection_set = set1.intersection(set2)\n",
        "symmetric_difference_set = set1.symmetric_difference(set2)\n",
        "\n",
        "print(\"Set 1:\", set1)\n",
        "print(\"Set 2:\", set2)\n",
        "print(\"Union:\", union_set)\n",
        "print(\"Difference:\", difference_set)\n",
        "print(\"Intersection:\", intersection_set)\n",
        "print(\"Symmetric difference:\", symmetric_difference_set)\n"
      ],
      "metadata": {
        "id": "h0T-VuDnf3Ri",
        "colab": {
          "base_uri": "https://localhost:8080/"
        },
        "outputId": "1ad41d4a-d1f4-4e07-b9dd-1bacbc44e52a"
      },
      "execution_count": 69,
      "outputs": [
        {
          "output_type": "stream",
          "name": "stdout",
          "text": [
            "Set 1: {1, 2, 3, 4, 5}\n",
            "Set 2: {3, 4, 5, 6, 7}\n",
            "Union: {1, 2, 3, 4, 5, 6, 7}\n",
            "Difference: {1, 2}\n",
            "Intersection: {3, 4, 5}\n",
            "Symmetric difference: {1, 2, 6, 7}\n"
          ]
        }
      ]
    },
    {
      "cell_type": "markdown",
      "source": [
        "# VII. Словники (Dictionary)."
      ],
      "metadata": {
        "id": "kWc8gkzTx7Ea"
      }
    },
    {
      "cell_type": "markdown",
      "source": [
        "20. Створіть пустий словник. До нього додайте чотири пари елементів такі, щоб їхні ключі були різних типів. Чи може список бути ключем? Чому?"
      ],
      "metadata": {
        "id": "i5FLwj-B2ybQ"
      }
    },
    {
      "cell_type": "code",
      "source": [
        "my_dict = {}\n",
        "\n",
        "my_dict[42] = \"integer_key\"\n",
        "my_dict[\"hello\"] = \"string_key\"\n",
        "my_dict[3.14] = \"float_key\"\n",
        "my_dict[(1, 2)] = \"tuple_key\"\n",
        "\n",
        "print(\"The dictionary:\", my_dict)"
      ],
      "metadata": {
        "id": "hxgv3BzrgLAV",
        "colab": {
          "base_uri": "https://localhost:8080/"
        },
        "outputId": "dbe3b039-a82b-4580-ff94-4882cc2a4f0f"
      },
      "execution_count": 72,
      "outputs": [
        {
          "output_type": "stream",
          "name": "stdout",
          "text": [
            "The dictionary: {42: 'integer_key', 'hello': 'string_key', 3.14: 'float_key', (1, 2): 'tuple_key'}\n"
          ]
        }
      ]
    },
    {
      "cell_type": "markdown",
      "source": [
        "Список не може бути ключем словника, адже ключ словника має бути незмінним (`immutable`), а список таким не є."
      ],
      "metadata": {
        "id": "zwa7UVN-gR3m"
      }
    },
    {
      "cell_type": "markdown",
      "source": [
        "21. Створіть словник, де значенням в одній з пар теж буде словник, який теж має вкладений словник. Виведіть на екран значення, що міститься в словнику, що знаходиться на найнижчому рівні ієрархії вкладеності (найбільш внутрішній)."
      ],
      "metadata": {
        "id": "WM_pMlJsgoNf"
      }
    },
    {
      "cell_type": "code",
      "source": [
        "my_dict = {\n",
        "    'key1': 'some_value',\n",
        "    'key2': {\n",
        "        'key21': 'some_value',\n",
        "        'key22': {\n",
        "            'key221': 'wanted_value'\n",
        "        }\n",
        "    },\n",
        "    'key3': 'some_value'\n",
        "}\n",
        "\n",
        "wanted_value = my_dict['key2']['key22']['key221']\n",
        "print(\"Wanted value:\", wanted_value)\n"
      ],
      "metadata": {
        "id": "60dlP7IHhAy4",
        "colab": {
          "base_uri": "https://localhost:8080/"
        },
        "outputId": "54219c19-be6c-4971-8293-a3767c20ac03"
      },
      "execution_count": 74,
      "outputs": [
        {
          "output_type": "stream",
          "name": "stdout",
          "text": [
            "Wanted value: wanted_value\n"
          ]
        }
      ]
    },
    {
      "cell_type": "markdown",
      "source": [
        "# Вітаю! Ви велика(ий) молодець, що впоралась(вся). Похваліть себе та побалуйте чимось приємним. Я Вами пишаюся."
      ],
      "metadata": {
        "id": "xOZP0hkx6cCr"
      }
    }
  ]
}